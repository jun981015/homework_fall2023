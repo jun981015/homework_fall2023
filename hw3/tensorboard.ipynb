{
 "cells": [
  {
   "cell_type": "code",
   "execution_count": 1,
   "metadata": {},
   "outputs": [
    {
     "name": "stdout",
     "output_type": "stream",
     "text": [
      "TensorBoard running at: http://localhost:6006/\n"
     ]
    }
   ],
   "source": [
    "from tensorboard import program\n",
    "path = 'data'\n",
    "tb = program.TensorBoard()\n",
    "tb.configure(argv = [None,'--logdir',path])\n",
    "url = tb.launch()\n",
    "print(\"TensorBoard running at:\", url)"
   ]
  }
 ],
 "metadata": {
  "kernelspec": {
   "display_name": "cs285",
   "language": "python",
   "name": "python3"
  },
  "language_info": {
   "codemirror_mode": {
    "name": "ipython",
    "version": 3
   },
   "file_extension": ".py",
   "mimetype": "text/x-python",
   "name": "python",
   "nbconvert_exporter": "python",
   "pygments_lexer": "ipython3",
   "version": "3.9.18"
  }
 },
 "nbformat": 4,
 "nbformat_minor": 2
}
